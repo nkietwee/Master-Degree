{
 "cells": [
  {
   "cell_type": "code",
   "execution_count": 2,
   "id": "6e4bc59c-a52f-4ad9-9474-cc40033b73ac",
   "metadata": {},
   "outputs": [],
   "source": [
    "import cv2\n",
    "import pytesseract"
   ]
  },
  {
   "cell_type": "code",
   "execution_count": 12,
   "id": "f899e32a-79b4-426c-8b26-50a5804212f5",
   "metadata": {},
   "outputs": [
    {
     "name": "stdout",
     "output_type": "stream",
     "text": [
      "test : | \n",
      "\n",
      "— Write Everyday\n",
      "\n",
      " \n",
      "\n",
      "Nov. 11\n",
      "\n",
      "Call me Ishmael. Some years ago-never mind how long precisely-\n",
      "having Little or no money in my purse, and nothing particular to\n",
      "interest me on shore, I thought I would sail about a little and\n",
      "see the watery part of the world. It is a way I have of driving\n",
      "off the spleen and regulating the circulation. Whenever I find\n",
      "myself growing grim about the mouth; whenever it is a damp,\n",
      "drizzly November in my soul; whenever I find myself involuntarily\n",
      "pausing before coffin warehouses, and bringing up the rear of\n",
      "every funeral I meet; and especially whenever my hypos get such an\n",
      "upper hand of me, that it requires a strong moral principle to\n",
      "\n",
      " \n",
      "\f",
      "|\n"
     ]
    }
   ],
   "source": [
    "img = cv2.imread(\"./Input-test/plain-text.png\")\n",
    "# img = cv2.imread(\"./Input-test/chang_test.jpg\")\n",
    "if img is not None:\n",
    "    img = cv2.cvtColor(img, cv2.COLOR_BGR2GRAY)\n",
    "    thresh, im_bw = cv2.threshold(img, 150, 255, cv2.THRESH_BINARY)\n",
    "# display_img(im_bw)\n",
    "    text =  pytesseract.image_to_string(im_bw)\n",
    "    print(f'test : |{text}|')\n",
    "else:\n",
    "    print(\"can't display picture\")"
   ]
  },
  {
   "cell_type": "code",
   "execution_count": 13,
   "id": "e32b8262-0dff-47f4-ba1e-e9b212993f3b",
   "metadata": {},
   "outputs": [
    {
     "name": "stdout",
     "output_type": "stream",
     "text": [
      "text : | \n",
      "\f",
      "|\n"
     ]
    }
   ],
   "source": [
    "img = cv2.imread(\"./Input-test/Chang_beer.jpg\")\n",
    "if img is not None:\n",
    "    img = cv2.cvtColor(img, cv2.COLOR_BGR2GRAY)\n",
    "    thresh, im_bw = cv2.threshold(img, 150, 255, cv2.THRESH_BINARY)\n",
    "# display_img(im_bw)\n",
    "    text =  pytesseract.image_to_string(im_bw)\n",
    "    print(f'text : |{text}|')"
   ]
  },
  {
   "cell_type": "code",
   "execution_count": null,
   "id": "2041c520-ccb7-448c-9e6b-fe4c59e90da8",
   "metadata": {},
   "outputs": [],
   "source": []
  }
 ],
 "metadata": {
  "kernelspec": {
   "display_name": "Python 3 (ipykernel)",
   "language": "python",
   "name": "python3"
  },
  "language_info": {
   "codemirror_mode": {
    "name": "ipython",
    "version": 3
   },
   "file_extension": ".py",
   "mimetype": "text/x-python",
   "name": "python",
   "nbconvert_exporter": "python",
   "pygments_lexer": "ipython3",
   "version": "3.10.12"
  }
 },
 "nbformat": 4,
 "nbformat_minor": 5
}
