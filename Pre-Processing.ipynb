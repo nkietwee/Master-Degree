{
 "cells": [
  {
   "cell_type": "markdown",
   "id": "ecd5e7d2-f428-45a2-a541-a5a1e9bf0b1d",
   "metadata": {},
   "source": [
    "## Import Library"
   ]
  },
  {
   "cell_type": "code",
   "execution_count": 1,
   "id": "9be32df5-5fd0-4075-bdc2-e549e2ee1686",
   "metadata": {
    "scrolled": true
   },
   "outputs": [],
   "source": [
    "import numpy as np\n",
    "import pandas as pd\n",
    "import matplotlib.pyplot as plt\n",
    "import os\n",
    "import cv2\n",
    "import sys\n",
    "from ultralytics import YOLO"
   ]
  },
  {
   "cell_type": "markdown",
   "id": "ae02d63a-eb7b-4dcc-a5b2-3c8d67500111",
   "metadata": {},
   "source": [
    "## Pre-processing\n",
    "#### - Change RGB image to grayscale\n",
    "#### - Crop specific picture\n",
    "#### - Resize picture"
   ]
  },
  {
   "cell_type": "code",
   "execution_count": 2,
   "id": "4a6a5746-a945-4fee-a64a-d21cdbc1aa95",
   "metadata": {},
   "outputs": [],
   "source": [
    "# display by matplotlib\n",
    "def display(im_path):\n",
    "    dpi = 80\n",
    "    im_data = plt.imread(im_path)\n",
    "    height, width  = im_data.shape[:2]\n",
    "    figsize = width / float(dpi), height / float(dpi)\n",
    "    fig = plt.figure(figsize=figsize)\n",
    "    ax = fig.add_axes([0, 0, 1, 1])\n",
    "    ax.axis('off')\n",
    "    ax.imshow(im_data, cmap='gray')\n",
    "    plt.show()"
   ]
  },
  {
   "cell_type": "code",
   "execution_count": 2,
   "id": "4c72d41c-86aa-4ccb-a76f-a93369d69fba",
   "metadata": {},
   "outputs": [],
   "source": [
    "# display by cv\n",
    "ESC = 27\n",
    "def display_path(path):\n",
    "    if os.path.exists(path) is False:\n",
    "        print(\"file doesn't exist\")\n",
    "        return\n",
    "    img = cv2.imread(path)\n",
    "    if img is None:\n",
    "        print(\"can't open img or doesn't have img\")\n",
    "        return \n",
    "    print(\"Hello\")\n",
    "    cv2.imshow(\"img\", img)\n",
    "    while True:\n",
    "        if cv2.waitKey(1) & 0xFF == ESC: \n",
    "            break\n",
    "    cv2.destroyAllWindows()"
   ]
  },
  {
   "cell_type": "code",
   "execution_count": 5,
   "id": "830d121a-ef8d-44c0-b291-aface1737f15",
   "metadata": {},
   "outputs": [],
   "source": [
    "ESC = 27\n",
    "def display_img(img):\n",
    "    if img is None:\n",
    "        print(\"can't open img or doesn't have img\")\n",
    "        return \n",
    "    cv2.imshow(\"img\", img)\n",
    "    while True:\n",
    "        if cv2.waitKey(1) & 0xFF == ESC: \n",
    "            break\n",
    "    cv2.destroyAllWindows()"
   ]
  },
  {
   "cell_type": "code",
   "execution_count": 6,
   "id": "1e33aa77-78b8-448d-a07c-869037b9d90c",
   "metadata": {},
   "outputs": [],
   "source": [
    "# list file\n",
    "input_path = \"./Input-test/\"\n",
    "input_files = os.listdir(input_path)"
   ]
  },
  {
   "cell_type": "code",
   "execution_count": 7,
   "id": "d042a6ea-bdd4-4a66-9eab-7094d0fb23fe",
   "metadata": {},
   "outputs": [],
   "source": [
    "# get full path of all image\n",
    "paths = []\n",
    "full_input_path = os.getcwd() + input_path[1:]\n",
    "for files in input_files:\n",
    "    paths.append(os.path.join(full_input_path + files))"
   ]
  },
  {
   "cell_type": "code",
   "execution_count": 8,
   "id": "dc035cd5-c729-4b26-b067-8ea4650066ef",
   "metadata": {},
   "outputs": [
    {
     "name": "stdout",
     "output_type": "stream",
     "text": [
      "PRO TIP 💡 Replace 'model=yolov5s.pt' with new 'model=yolov5su.pt'.\n",
      "YOLOv5 'u' models are trained with https://github.com/ultralytics/ultralytics and feature improved performance vs standard YOLOv5 models trained with https://github.com/ultralytics/yolov5.\n",
      "\n",
      "Downloading https://github.com/ultralytics/assets/releases/download/v8.3.0/yolov5su.pt to 'yolov5su.pt'...\n"
     ]
    },
    {
     "name": "stderr",
     "output_type": "stream",
     "text": [
      "100%|████████████████████████████████████| 17.7M/17.7M [00:01<00:00, 14.6MB/s]\n"
     ]
    }
   ],
   "source": [
    "# crop specifc bottle\n",
    "model = YOLO('yolov5s.pt')\n",
    "def crop_bottle(image):\n",
    "    if len(image.shape) == 2:  # Grayscale images have shape (height, width)\n",
    "        # Convert grayscale to 3-channel grayscale by stacking it 3 times\n",
    "      print(\"Entry\")\n",
    "      image = np.stack(3 * [image], axis=-1)\n",
    "    results = model(image)\n",
    "    res = []\n",
    "    if isinstance(results, list):\n",
    "        for i in range(len(results)): #total of picture\n",
    "            for box in results[i].boxes.data: # total of object in 1 picture\n",
    "                x1, y1, x2, y2, conf, cls = map(float, box)\n",
    "                if conf > 0.85: # majic\n",
    "                  x1, y1, x2, y2 = int(x1), int(y1), int(x2), int(y2)\n",
    "                  img = image[y1:y2, x1:x2]\n",
    "                  res.append(img)\n",
    "\n",
    "                  # display specific rectangle , name and conf\n",
    "                  # name = results[i].names[cls]\n",
    "                  # cv2.rectangle(image, (x1, y1), (x2, y2), (255, 0, 255), 5)\n",
    "                  # cv2.putText(image, str(conf), (50, 400), cv2.FONT_HERSHEY_SIMPLEX, 3, (0, 255, 0), 2)\n",
    "                  # cv2.putText(image, str(name), (50, 200), cv2.FONT_HERSHEY_SIMPLEX, 3, (0, 255, 0), 2)\n",
    "                  # cv2.imwrite('/content/drive/MyDrive/Text/result2.jpg', image)\n",
    "                else:\n",
    "                  return(res)\n",
    "        return(res)\n",
    "    else:\n",
    "      print(\"not plate\")"
   ]
  },
  {
   "cell_type": "code",
   "execution_count": 9,
   "id": "585c244c-3a68-46f5-9e9b-c695f326d854",
   "metadata": {},
   "outputs": [
    {
     "name": "stdout",
     "output_type": "stream",
     "text": [
      "Entry\n",
      "\n",
      "0: 448x640 (no detections), 36.6ms\n",
      "Speed: 3.8ms preprocess, 36.6ms inference, 44.3ms postprocess per image at shape (1, 3, 448, 640)\n",
      "Entry\n",
      "\n",
      "0: 512x640 (no detections), 41.0ms\n",
      "Speed: 6.3ms preprocess, 41.0ms inference, 0.4ms postprocess per image at shape (1, 3, 512, 640)\n",
      "Entry\n",
      "\n",
      "0: 352x640 (no detections), 34.3ms\n",
      "Speed: 1.1ms preprocess, 34.3ms inference, 0.5ms postprocess per image at shape (1, 3, 352, 640)\n",
      "Entry\n",
      "\n",
      "0: 512x640 (no detections), 14.7ms\n",
      "Speed: 3.1ms preprocess, 14.7ms inference, 1.9ms postprocess per image at shape (1, 3, 512, 640)\n",
      "Entry\n",
      "\n",
      "0: 192x640 (no detections), 35.9ms\n",
      "Speed: 0.9ms preprocess, 35.9ms inference, 0.5ms postprocess per image at shape (1, 3, 192, 640)\n",
      "Entry\n",
      "\n",
      "0: 640x640 1 train, 9.5ms\n",
      "Speed: 5.5ms preprocess, 9.5ms inference, 100.5ms postprocess per image at shape (1, 3, 640, 640)\n",
      "Entry\n",
      "\n",
      "0: 416x640 (no detections), 37.6ms\n",
      "Speed: 1.7ms preprocess, 37.6ms inference, 0.7ms postprocess per image at shape (1, 3, 416, 640)\n",
      "Entry\n",
      "\n",
      "0: 640x384 1 bottle, 1 dining table, 38.2ms\n",
      "Speed: 2.8ms preprocess, 38.2ms inference, 1.1ms postprocess per image at shape (1, 3, 640, 384)\n",
      "Entry\n",
      "\n",
      "0: 640x384 1 bottle, 10.4ms\n",
      "Speed: 1.4ms preprocess, 10.4ms inference, 1.1ms postprocess per image at shape (1, 3, 640, 384)\n",
      "Entry\n",
      "\n",
      "0: 384x640 1 bus, 1 microwave, 1 oven, 36.2ms\n",
      "Speed: 1.1ms preprocess, 36.2ms inference, 1.0ms postprocess per image at shape (1, 3, 384, 640)\n"
     ]
    }
   ],
   "source": [
    "# using append() with a list\n",
    "gray_imgs = []\n",
    "target_size = (100, 100)\n",
    "for path in paths:\n",
    "    img = cv2.imread(path)\n",
    "    if img is not None:\n",
    "        gray_img = cv2.cvtColor(img, cv2.COLOR_BGR2GRAY)\n",
    "        if gray_img is not None:\n",
    "    # gray_img_resized = cv2.resize(gray_img, target_size)\n",
    "            crop_imgs = crop_bottle(gray_img)\n",
    "            for crop_img in crop_imgs: # In case it have more than 1 object\n",
    "                gray_imgs.append(crop_img)\n",
    "        else:\n",
    "            print(\"Can't convert color\")\n",
    "    else:\n",
    "        print(\"Can't open image\")\n",
    "gray_imgs = np.array(gray_imgs)"
   ]
  },
  {
   "cell_type": "code",
   "execution_count": null,
   "id": "249662f0-1921-4100-a3fb-5ec6aceb1bda",
   "metadata": {},
   "outputs": [],
   "source": []
  },
  {
   "cell_type": "markdown",
   "id": "7c25eec4-432d-4938-8045-00d75d167838",
   "metadata": {},
   "source": [
    "## Optinal"
   ]
  },
  {
   "cell_type": "code",
   "execution_count": 29,
   "id": "52765598-d394-4e02-8730-888af05a8461",
   "metadata": {},
   "outputs": [],
   "source": [
    "# print(type(gray_imgs[0]))\n",
    "display_img(gray_imgs[0])"
   ]
  },
  {
   "cell_type": "code",
   "execution_count": 9,
   "id": "6c58fb7e-6cf2-4490-af85-b2177e774512",
   "metadata": {},
   "outputs": [
    {
     "data": {
      "text/plain": [
       "True"
      ]
     },
     "execution_count": 9,
     "metadata": {},
     "output_type": "execute_result"
    }
   ],
   "source": [
    "img = cv2.imread(\"./Input-test/Chang_beer.jpg\")\n",
    "img = cv2.cvtColor(img, cv2.COLOR_BGR2GRAY)\n",
    "thresh, im_bw = cv2.threshold(img, 150, 255, cv2.THRESH_BINARY)\n",
    "# kernel = cv2.getStructuringElement(cv2.MORPH_RECT, (3, 3))\n",
    "# binary_image = cv2.morphologyEx(binary_image, cv2.MORPH_CLOSE, kernel)\n",
    "cv2.imwrite(\"./Input-test/chang_thh.jpg\", im_bw)"
   ]
  },
  {
   "cell_type": "code",
   "execution_count": 10,
   "id": "4c10559d-9627-4567-b869-caeb45c8d528",
   "metadata": {},
   "outputs": [],
   "source": [
    "# display_img(binary_image)\n",
    "display_img(im_bw)"
   ]
  },
  {
   "cell_type": "code",
   "execution_count": null,
   "id": "ce0494f6-219b-4540-acbd-aad2df9b78d1",
   "metadata": {},
   "outputs": [],
   "source": []
  }
 ],
 "metadata": {
  "kernelspec": {
   "display_name": "master-degree-NMpj3oWN-py3.10",
   "language": "python",
   "name": "python3"
  },
  "language_info": {
   "codemirror_mode": {
    "name": "ipython",
    "version": 3
   },
   "file_extension": ".py",
   "mimetype": "text/x-python",
   "name": "python",
   "nbconvert_exporter": "python",
   "pygments_lexer": "ipython3",
   "version": "3.10.12"
  }
 },
 "nbformat": 4,
 "nbformat_minor": 5
}
